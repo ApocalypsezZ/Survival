{
 "cells": [
  {
   "cell_type": "code",
   "execution_count": 1,
   "metadata": {
    "collapsed": true,
    "pycharm": {
     "name": "#%%\n"
    }
   },
   "outputs": [
    {
     "name": "stdout",
     "output_type": "stream",
     "text": [
      "The raw_dataset has the following shape: (5073, 22).\n"
     ]
    },
    {
     "data": {
      "text/plain": "                ID        state         time  treatment_before       gender  \\\ncount  5073.000000  5073.000000  5073.000000       5073.000000  5073.000000   \nmean   5054.965109     0.456535    32.353119          0.046521     0.849793   \nstd    2291.592780     0.498156    22.551936          0.210631     0.357309   \nmin    1001.000000     0.000000     1.033333          0.000000     0.000000   \n25%    2736.000000     0.000000    13.466667          0.000000     1.000000   \n50%    5664.000000     0.000000    28.166667          0.000000     1.000000   \n75%    7018.000000     1.000000    46.533333          0.000000     1.000000   \nmax    8427.000000     1.000000   141.233333          1.000000     1.000000   \n\n               age     Etiology         ECOG  tumor_number   tumor_size  ...  \\\ncount  5073.000000  5073.000000  5073.000000   5073.000000  5073.000000  ...   \nmean     54.967988     1.064065     0.272620      1.777055     6.478766  ...   \nstd      11.913047     0.244892     0.445351      1.413436     3.767633  ...   \nmin      18.000000     1.000000     0.000000      1.000000     0.700000  ...   \n25%      46.000000     1.000000     0.000000      1.000000     3.500000  ...   \n50%      55.000000     1.000000     0.000000      1.000000     5.500000  ...   \n75%      64.000000     1.000000     1.000000      2.000000     8.800000  ...   \nmax      91.000000     2.000000     1.000000     12.000000    22.600000  ...   \n\n               ALB         TBIL          AST          ALT          PLT  \\\ncount  5073.000000  5073.000000  5073.000000  5073.000000  5073.000000   \nmean     40.522624    16.853966    54.996409    54.959300   143.088602   \nstd       4.840245     7.621541    77.919350    77.191351    77.455903   \nmin      20.000000     0.100000     1.000000     2.000000    11.000000   \n25%      37.200000    11.500000    29.000000    25.000000    86.000000   \n50%      40.500000    15.300000    41.000000    37.000000   134.000000   \n75%      43.800000    20.500000    58.614578    60.000000   185.000000   \nmax      75.400000    84.000000  2900.000000  2700.000000   634.000000   \n\n               INR          BUN           Cr          WBC          HGB  \ncount  5073.000000  5073.000000  5073.000000  5073.000000  5073.000000  \nmean      1.061043     5.452260    74.631538     5.197461   136.292104  \nstd       0.115742     1.927816    20.905981     3.353453    20.091716  \nmin       0.690000     0.900000     3.000000     1.000000    33.300000  \n25%       0.990000     4.310000    64.000000     3.400000   125.000000  \n50%       1.050000     5.300000    73.088394     4.640000   138.000000  \n75%       1.130000     6.200000    83.000000     6.269280   150.000000  \nmax       3.100000    51.000000   824.000000    75.000000   207.000000  \n\n[8 rows x 21 columns]",
      "text/html": "<div>\n<style scoped>\n    .dataframe tbody tr th:only-of-type {\n        vertical-align: middle;\n    }\n\n    .dataframe tbody tr th {\n        vertical-align: top;\n    }\n\n    .dataframe thead th {\n        text-align: right;\n    }\n</style>\n<table border=\"1\" class=\"dataframe\">\n  <thead>\n    <tr style=\"text-align: right;\">\n      <th></th>\n      <th>ID</th>\n      <th>state</th>\n      <th>time</th>\n      <th>treatment_before</th>\n      <th>gender</th>\n      <th>age</th>\n      <th>Etiology</th>\n      <th>ECOG</th>\n      <th>tumor_number</th>\n      <th>tumor_size</th>\n      <th>...</th>\n      <th>ALB</th>\n      <th>TBIL</th>\n      <th>AST</th>\n      <th>ALT</th>\n      <th>PLT</th>\n      <th>INR</th>\n      <th>BUN</th>\n      <th>Cr</th>\n      <th>WBC</th>\n      <th>HGB</th>\n    </tr>\n  </thead>\n  <tbody>\n    <tr>\n      <th>count</th>\n      <td>5073.000000</td>\n      <td>5073.000000</td>\n      <td>5073.000000</td>\n      <td>5073.000000</td>\n      <td>5073.000000</td>\n      <td>5073.000000</td>\n      <td>5073.000000</td>\n      <td>5073.000000</td>\n      <td>5073.000000</td>\n      <td>5073.000000</td>\n      <td>...</td>\n      <td>5073.000000</td>\n      <td>5073.000000</td>\n      <td>5073.000000</td>\n      <td>5073.000000</td>\n      <td>5073.000000</td>\n      <td>5073.000000</td>\n      <td>5073.000000</td>\n      <td>5073.000000</td>\n      <td>5073.000000</td>\n      <td>5073.000000</td>\n    </tr>\n    <tr>\n      <th>mean</th>\n      <td>5054.965109</td>\n      <td>0.456535</td>\n      <td>32.353119</td>\n      <td>0.046521</td>\n      <td>0.849793</td>\n      <td>54.967988</td>\n      <td>1.064065</td>\n      <td>0.272620</td>\n      <td>1.777055</td>\n      <td>6.478766</td>\n      <td>...</td>\n      <td>40.522624</td>\n      <td>16.853966</td>\n      <td>54.996409</td>\n      <td>54.959300</td>\n      <td>143.088602</td>\n      <td>1.061043</td>\n      <td>5.452260</td>\n      <td>74.631538</td>\n      <td>5.197461</td>\n      <td>136.292104</td>\n    </tr>\n    <tr>\n      <th>std</th>\n      <td>2291.592780</td>\n      <td>0.498156</td>\n      <td>22.551936</td>\n      <td>0.210631</td>\n      <td>0.357309</td>\n      <td>11.913047</td>\n      <td>0.244892</td>\n      <td>0.445351</td>\n      <td>1.413436</td>\n      <td>3.767633</td>\n      <td>...</td>\n      <td>4.840245</td>\n      <td>7.621541</td>\n      <td>77.919350</td>\n      <td>77.191351</td>\n      <td>77.455903</td>\n      <td>0.115742</td>\n      <td>1.927816</td>\n      <td>20.905981</td>\n      <td>3.353453</td>\n      <td>20.091716</td>\n    </tr>\n    <tr>\n      <th>min</th>\n      <td>1001.000000</td>\n      <td>0.000000</td>\n      <td>1.033333</td>\n      <td>0.000000</td>\n      <td>0.000000</td>\n      <td>18.000000</td>\n      <td>1.000000</td>\n      <td>0.000000</td>\n      <td>1.000000</td>\n      <td>0.700000</td>\n      <td>...</td>\n      <td>20.000000</td>\n      <td>0.100000</td>\n      <td>1.000000</td>\n      <td>2.000000</td>\n      <td>11.000000</td>\n      <td>0.690000</td>\n      <td>0.900000</td>\n      <td>3.000000</td>\n      <td>1.000000</td>\n      <td>33.300000</td>\n    </tr>\n    <tr>\n      <th>25%</th>\n      <td>2736.000000</td>\n      <td>0.000000</td>\n      <td>13.466667</td>\n      <td>0.000000</td>\n      <td>1.000000</td>\n      <td>46.000000</td>\n      <td>1.000000</td>\n      <td>0.000000</td>\n      <td>1.000000</td>\n      <td>3.500000</td>\n      <td>...</td>\n      <td>37.200000</td>\n      <td>11.500000</td>\n      <td>29.000000</td>\n      <td>25.000000</td>\n      <td>86.000000</td>\n      <td>0.990000</td>\n      <td>4.310000</td>\n      <td>64.000000</td>\n      <td>3.400000</td>\n      <td>125.000000</td>\n    </tr>\n    <tr>\n      <th>50%</th>\n      <td>5664.000000</td>\n      <td>0.000000</td>\n      <td>28.166667</td>\n      <td>0.000000</td>\n      <td>1.000000</td>\n      <td>55.000000</td>\n      <td>1.000000</td>\n      <td>0.000000</td>\n      <td>1.000000</td>\n      <td>5.500000</td>\n      <td>...</td>\n      <td>40.500000</td>\n      <td>15.300000</td>\n      <td>41.000000</td>\n      <td>37.000000</td>\n      <td>134.000000</td>\n      <td>1.050000</td>\n      <td>5.300000</td>\n      <td>73.088394</td>\n      <td>4.640000</td>\n      <td>138.000000</td>\n    </tr>\n    <tr>\n      <th>75%</th>\n      <td>7018.000000</td>\n      <td>1.000000</td>\n      <td>46.533333</td>\n      <td>0.000000</td>\n      <td>1.000000</td>\n      <td>64.000000</td>\n      <td>1.000000</td>\n      <td>1.000000</td>\n      <td>2.000000</td>\n      <td>8.800000</td>\n      <td>...</td>\n      <td>43.800000</td>\n      <td>20.500000</td>\n      <td>58.614578</td>\n      <td>60.000000</td>\n      <td>185.000000</td>\n      <td>1.130000</td>\n      <td>6.200000</td>\n      <td>83.000000</td>\n      <td>6.269280</td>\n      <td>150.000000</td>\n    </tr>\n    <tr>\n      <th>max</th>\n      <td>8427.000000</td>\n      <td>1.000000</td>\n      <td>141.233333</td>\n      <td>1.000000</td>\n      <td>1.000000</td>\n      <td>91.000000</td>\n      <td>2.000000</td>\n      <td>1.000000</td>\n      <td>12.000000</td>\n      <td>22.600000</td>\n      <td>...</td>\n      <td>75.400000</td>\n      <td>84.000000</td>\n      <td>2900.000000</td>\n      <td>2700.000000</td>\n      <td>634.000000</td>\n      <td>3.100000</td>\n      <td>51.000000</td>\n      <td>824.000000</td>\n      <td>75.000000</td>\n      <td>207.000000</td>\n    </tr>\n  </tbody>\n</table>\n<p>8 rows × 21 columns</p>\n</div>"
     },
     "execution_count": 1,
     "metadata": {},
     "output_type": "execute_result"
    }
   ],
   "source": [
    "# Importing modules\n",
    "import pandas as pd\n",
    "import numpy as np\n",
    "from config import config\n",
    "\n",
    "# Reading the raw dataset\n",
    "raw_dataset = pd.read_csv(config['path_raw'] + 'TACE_LR.csv')\n",
    "print(\"The raw_dataset has the following shape: {}.\".format(raw_dataset.shape))\n",
    "raw_dataset.describe()"
   ]
  },
  {
   "cell_type": "code",
   "execution_count": null,
   "outputs": [],
   "source": [
    "# Defining the time and event column\n",
    "time_column = 'time'\n",
    "event_column = 'state'\n",
    "\n",
    "# encode, drop...\n",
    "dataset = raw_dataset.drop(['ID'], axis=1)\n",
    "dataset_with_id = raw_dataset\n",
    "\n",
    "# Defining the modeling features\n",
    "features_all = np.setdiff1d(dataset.columns, ['time', 'state']).tolist()\n",
    "features_select = [\"tumor_size\",\"therapy\", \"AFP\", \"AST\", \"tumor_number\", \"ECOG\", \"ALB\", \"HGB\", \"INR\"]\n",
    "\n",
    "# Checking for null values\n",
    "N_null = sum(dataset[features_all].isnull().sum())\n",
    "print(\"The dataset contains {} null values\".format(N_null)) #0 null values\n",
    "\n",
    "# Removing duplicates if there exist\n",
    "N_dupli = sum(dataset.duplicated(keep='first'))\n",
    "N_dupli_list = dataset.index[dataset.duplicated(keep='first') == True].tolist()\n",
    "print(N_dupli_list)\n",
    "dataset = dataset.drop_duplicates(keep='first').reset_index(drop=True)\n",
    "dataset_with_id = dataset_with_id.drop(N_dupli_list, axis=0).reset_index(drop=True)\n",
    "print(\"The dataset contains {} duplicates\".format(N_dupli))\n",
    "\n",
    "print(dataset.shape)\n",
    "print(dataset_with_id.shape)"
   ],
   "metadata": {
    "collapsed": false,
    "pycharm": {
     "name": "#%%\n"
    }
   }
  },
  {
   "cell_type": "code",
   "execution_count": null,
   "outputs": [],
   "source": [
    "dataset = dataset_with_id\n",
    "\n",
    "# Building training and testing sets\n",
    "from sklearn.model_selection import train_test_split\n",
    "index_train, index_test = train_test_split( range(dataset.shape[0]), test_size = config['valid_ratio'], random_state = config['seed'], shuffle = True)\n",
    "data_train = dataset.loc[index_train].reset_index( drop = True )\n",
    "data_test  = dataset.loc[index_test].reset_index( drop = True )\n",
    "\n",
    "# Print out the data size.\n",
    "print(\"The training set has the following shape: {}.\".format(data_train.shape))\n",
    "print(\"The testing set has the following shape: {}.\".format(data_test.shape))\n",
    "\n",
    "# save the data\n",
    "data_train.to_csv(config['path_processed'] + 'data_train.csv', index = False)\n",
    "data_test.to_csv(config['path_processed'] + 'data_test.csv', index = False)"
   ],
   "metadata": {
    "collapsed": false,
    "pycharm": {
     "name": "#%%\n"
    }
   }
  }
 ],
 "metadata": {
  "kernelspec": {
   "display_name": "Python 3",
   "language": "python",
   "name": "python3"
  },
  "language_info": {
   "codemirror_mode": {
    "name": "ipython",
    "version": 2
   },
   "file_extension": ".py",
   "mimetype": "text/x-python",
   "name": "python",
   "nbconvert_exporter": "python",
   "pygments_lexer": "ipython2",
   "version": "2.7.6"
  }
 },
 "nbformat": 4,
 "nbformat_minor": 0
}