{
 "cells": [
  {
   "cell_type": "code",
   "execution_count": 1,
   "outputs": [
    {
     "name": "stdout",
     "output_type": "stream",
     "text": [
      "Loading the model from ./models/csf_all.zip\n"
     ]
    },
    {
     "name": "stderr",
     "output_type": "stream",
     "text": [
      "C:\\Anaconda3\\envs\\sa\\lib\\site-packages\\ipykernel_launcher.py:10: FutureWarning: 'pyarrow.deserialize' is deprecated as of 2.0.0 and will be removed in a future version. Use pickle or the pyarrow IPC functionality instead.\n",
      "  # Remove the CWD from sys.path while we load stuff.\n"
     ]
    },
    {
     "name": "stdout",
     "output_type": "stream",
     "text": [
      "Loading the model from ./models/rsf_all.zip\n"
     ]
    },
    {
     "name": "stderr",
     "output_type": "stream",
     "text": [
      "C:\\Anaconda3\\envs\\sa\\lib\\site-packages\\ipykernel_launcher.py:11: FutureWarning: 'pyarrow.deserialize' is deprecated as of 2.0.0 and will be removed in a future version. Use pickle or the pyarrow IPC functionality instead.\n",
      "  # This is added back by InteractiveShellApp.init_path()\n"
     ]
    },
    {
     "name": "stdout",
     "output_type": "stream",
     "text": [
      "Loading the model from ./models/esf_all.zip\n"
     ]
    },
    {
     "name": "stderr",
     "output_type": "stream",
     "text": [
      "C:\\Anaconda3\\envs\\sa\\lib\\site-packages\\ipykernel_launcher.py:12: FutureWarning: 'pyarrow.deserialize' is deprecated as of 2.0.0 and will be removed in a future version. Use pickle or the pyarrow IPC functionality instead.\n",
      "  if sys.path[0] == \"\":\n"
     ]
    },
    {
     "name": "stdout",
     "output_type": "stream",
     "text": [
      "Loading the model from ./models/coxph.zip\n",
      "Loading the model from ./models/nonlinear_coxph.zip\n",
      "Loading the model from ./models/gomp_model.zip\n"
     ]
    },
    {
     "name": "stderr",
     "output_type": "stream",
     "text": [
      "C:\\Anaconda3\\envs\\sa\\lib\\site-packages\\ipykernel_launcher.py:13: FutureWarning: 'pyarrow.deserialize' is deprecated as of 2.0.0 and will be removed in a future version. Use pickle or the pyarrow IPC functionality instead.\n",
      "  del sys.path[0]\n",
      "C:\\Anaconda3\\envs\\sa\\lib\\site-packages\\ipykernel_launcher.py:14: FutureWarning: 'pyarrow.deserialize' is deprecated as of 2.0.0 and will be removed in a future version. Use pickle or the pyarrow IPC functionality instead.\n",
      "  \n",
      "C:\\Anaconda3\\envs\\sa\\lib\\site-packages\\ipykernel_launcher.py:15: FutureWarning: 'pyarrow.deserialize' is deprecated as of 2.0.0 and will be removed in a future version. Use pickle or the pyarrow IPC functionality instead.\n",
      "  from ipykernel import kernelapp as app\n"
     ]
    },
    {
     "name": "stdout",
     "output_type": "stream",
     "text": [
      "Train CSF: [[0.98231022 0.96252017 0.9429391  ... 0.44922252 0.44922252 0.44922252]\n",
      " [0.99688165 0.99321791 0.98279461 ... 0.41046199 0.41046199 0.41046199]\n",
      " [0.99556935 0.98794076 0.97147868 ... 0.30758491 0.30758491 0.30758491]\n",
      " ...\n",
      " [0.98778449 0.96724905 0.92554504 ... 0.1846733  0.1846733  0.1846733 ]\n",
      " [0.99175066 0.98041253 0.97019958 ... 0.50879261 0.50879261 0.50879261]\n",
      " [0.99600529 0.9921442  0.98021189 ... 0.36825482 0.36825482 0.36825482]] (4192, 112)\n",
      "Train RSF: [[0.98842975 0.97945156 0.96787224 ... 0.55526038 0.55526038 0.55526038]\n",
      " [0.99931063 0.99515527 0.99341429 ... 0.60706881 0.60706881 0.60706881]\n",
      " [0.99669572 0.98963131 0.97287771 ... 0.42710449 0.42710449 0.42710449]\n",
      " ...\n",
      " [0.9907116  0.96925854 0.92529606 ... 0.20261138 0.20261138 0.20261138]\n",
      " [0.99151052 0.98187601 0.97327565 ... 0.67541009 0.67541009 0.67541009]\n",
      " [0.99737838 0.99737838 0.99120965 ... 0.53281831 0.53281831 0.53281831]] (4192, 112)\n",
      "Train ESF: [[0.98501426 0.96941583 0.95191595 ... 0.50909554 0.50909554 0.50909554]\n",
      " [0.99641045 0.99264462 0.98484513 ... 0.39524697 0.39524697 0.39524697]\n",
      " [0.99482982 0.98921136 0.97820301 ... 0.36554847 0.36554847 0.36554847]\n",
      " ...\n",
      " [0.9911383  0.97684597 0.94040285 ... 0.23034603 0.23034603 0.23034603]\n",
      " [0.99452229 0.98369984 0.96937636 ... 0.61515746 0.61515746 0.61515746]\n",
      " [0.99787563 0.98937988 0.97969758 ... 0.27546278 0.27546278 0.27546278]] (4192, 112)\n",
      "Train Coxph: [[0.99494299 0.98758235 0.97522046 ... 0.43022589 0.41824333 0.37988039]\n",
      " [0.99560614 0.98920549 0.9784417  ... 0.48065953 0.46901019 0.43141109]\n",
      " [0.99402889 0.98534759 0.9707941  ... 0.36922005 0.35710311 0.31873983]\n",
      " ...\n",
      " [0.984596   0.96246178 0.92604641 ... 0.07557491 0.06931296 0.05162706]\n",
      " [0.99697937 0.99257167 0.98513918 ... 0.60453998 0.59443578 0.56127195]\n",
      " [0.99309067 0.98305699 0.96626764 ... 0.31554279 0.30358597 0.2661596 ]] (4192, 78)\n",
      "Train Nonlinear Coxph: [[0.9949322  0.98754716 0.97508171 ... 0.41108385 0.39857713 0.35691759]\n",
      " [0.99645596 0.99128166 0.98252126 ... 0.53730151 0.52582552 0.4867865 ]\n",
      " [0.9942232  0.98581236 0.97163546 ... 0.36287845 0.35031639 0.30887942]\n",
      " ...\n",
      " [0.98538934 0.96434934 0.92950648 ... 0.07613393 0.06961566 0.05056089]\n",
      " [0.9970319  0.99269539 0.985345   ... 0.59446401 0.58381492 0.54729912]\n",
      " [0.99116319 0.97834587 0.95687312 ... 0.2116052  0.20048629 0.16531966]] (4192, 78)\n",
      "Train GOMP Model: [[1.         0.9824064  0.96513283 ... 0.18592924 0.18280663 0.17973804]\n",
      " [1.         0.9832277  0.96674687 ... 0.20125581 0.19803363 0.1948647 ]\n",
      " [1.         0.97788644 0.9562751  ... 0.12009501 0.11755963 0.11507904]\n",
      " ...\n",
      " [1.         0.9454248  0.89385897 ... 0.00489661 0.00464129 0.0043994 ]\n",
      " [1.         0.9891864  0.9784963  ... 0.35682622 0.35314345 0.3495006 ]\n",
      " [1.         0.9746131  0.94988567 ... 0.08739848 0.0852801  0.0832141 ]] (4192, 100)\n",
      "Test CSF: [[0.99482212 0.98730513 0.97122862 ... 0.24412453 0.24412453 0.24412453]\n",
      " [0.99781529 0.9932352  0.98964322 ... 0.70485457 0.70485457 0.70485457]\n",
      " [0.9973476  0.99285196 0.98919148 ... 0.71811136 0.71811136 0.71811136]\n",
      " ...\n",
      " [0.98901419 0.97833516 0.96897863 ... 0.52419697 0.52419697 0.52419697]\n",
      " [0.98966047 0.97232278 0.94828851 ... 0.29492255 0.29492255 0.29492255]\n",
      " [0.99578965 0.98954057 0.98391689 ... 0.66304413 0.66304413 0.66304413]] (799, 112)\n",
      "Test RSF: [[0.99571396 0.98686581 0.9722456  ... 0.36224955 0.36224955 0.36224955]\n",
      " [0.99920044 0.99600843 0.99391363 ... 0.87737009 0.87737009 0.87737009]\n",
      " [1.         1.         0.99818004 ... 0.83449817 0.83449817 0.83449817]\n",
      " ...\n",
      " [0.98576877 0.97713302 0.9725687  ... 0.66744746 0.66744746 0.66744746]\n",
      " [0.98992703 0.9799215  0.95848409 ... 0.36220839 0.36220839 0.36220839]\n",
      " [0.99904837 0.99041525 0.98773356 ... 0.79504594 0.79504594 0.79504594]] (799, 112)\n",
      "Test ESF: [[0.99407551 0.98768448 0.97148082 ... 0.27512838 0.27512838 0.27512838]\n",
      " [0.9956711  0.98969589 0.98419267 ... 0.70160099 0.70160099 0.70160099]\n",
      " [0.99562689 0.98836618 0.9827948  ... 0.65996409 0.65996409 0.65996409]\n",
      " ...\n",
      " [0.98586464 0.96949823 0.96013614 ... 0.55607975 0.55607975 0.55607975]\n",
      " [0.98731786 0.9647504  0.94637922 ... 0.28085289 0.28085289 0.28085289]\n",
      " [0.99644792 0.98848032 0.98257561 ... 0.69709173 0.69709173 0.69709173]] (799, 112)\n",
      "Test Coxph: [[0.9885683  0.9720603  0.94468494 ... 0.14766766 0.13850477 0.11135503]\n",
      " [0.99868662 0.9967661  0.99351665 ... 0.80360788 0.79774504 0.77809575]\n",
      " [0.99807068 0.99525161 0.99048769 ... 0.72521884 0.71745751 0.69164093]\n",
      " ...\n",
      " [0.99670589 0.99190074 0.98380245 ... 0.57756761 0.56704679 0.53263082]\n",
      " [0.98903853 0.97320031 0.94691103 ... 0.15982528 0.15030572 0.12193823]\n",
      " [0.99848986 0.99628215 0.99254827 ... 0.77769252 0.77117168 0.74936975]] (799, 78)\n",
      "Test Nonlinear Coxph: [[0.98952651 0.97436616 0.94905115 ... 0.15846957 0.14864134 0.11824536]\n",
      " [0.99879395 0.99702802 0.99402427 ... 0.80965421 0.80373427 0.78293297]\n",
      " [0.99854752 0.9964214  0.99280677 ... 0.77544123 0.76861722 0.74472105]\n",
      " ...\n",
      " [0.99645561 0.9912808  0.98251954 ... 0.53726836 0.52579195 0.4867517 ]\n",
      " [0.99062918 0.97704631 0.95431533 ... 0.19256381 0.1818485  0.14820536]\n",
      " [0.99881808 0.99708744 0.99414357 ... 0.81308451 0.8072581  0.78677857]] (799, 78)\n",
      "Test GOMP Model: [[1.         0.9590541  0.9198085  ... 0.01901374 0.01827016 0.01755602]\n",
      " [1.         0.9950899  0.99020696 ... 0.62717474 0.624236   0.6213125 ]\n",
      " [1.         0.9930764  0.9862049  ... 0.5176207  0.5142005  0.51080465]\n",
      " ...\n",
      " [1.         0.988396   0.9769337  ... 0.33078992 0.3271263  0.32350507]\n",
      " [1.         0.960641   0.9228541  ... 0.02223943 0.02140343 0.02059927]\n",
      " [1.         0.99445325 0.9889406  ... 0.59025896 0.5871345  0.5840282 ]] (799, 100)\n"
     ]
    }
   ],
   "source": [
    "from config import *\n",
    "from pysurvival.utils import load_model\n",
    "import pandas as pd\n",
    "import math\n",
    "import numpy as np\n",
    "\n",
    "feature = 'all'\n",
    "\n",
    "# Load model\n",
    "csf = load_model(config[\"save_path\"] + \"csf_\" + feature + \".zip\")\n",
    "rsf = load_model(config[\"save_path\"] + \"rsf_\" + feature + \".zip\")\n",
    "esf = load_model(config[\"save_path\"] + \"esf_\" + feature + \".zip\")\n",
    "coxph = load_model(config[\"save_path\"] + \"coxph\" + \".zip\")\n",
    "nonlinear_coxph = load_model(config[\"save_path\"] + \"nonlinear_coxph\" + \".zip\")\n",
    "gomp_model = load_model(config[\"save_path\"] + \"gomp_model\" + \".zip\")\n",
    "\n",
    "# read data\n",
    "train = pd.read_csv(config[\"path_ok\"] + \"data_train.csv\")\n",
    "test = pd.read_csv(config[\"path_ok\"] + \"data_test.csv\")\n",
    "\n",
    "# Defining the time and event column\n",
    "time_column = 'time'\n",
    "event_column = 'state'\n",
    "\n",
    "# encode, drop...\n",
    "train['time'] = train['time'].apply(lambda x: math.ceil(x))\n",
    "test['time'] = test['time'].apply(lambda x: math.ceil(x))\n",
    "train['therapy'] = train['therapy'].apply(lambda x: 0 if x == 'TACE' else 1)\n",
    "test['therapy'] = test['therapy'].apply(lambda x: 0 if x == 'TACE' else 1)\n",
    "\n",
    "# Defining the modeling features\n",
    "features_all = np.setdiff1d(train.columns, ['time', 'state', 'ID']).tolist()\n",
    "\n",
    "X_train, X_test = train[features_all], test[features_all]\n",
    "T_train, T_test = train[time_column], test[time_column]\n",
    "E_train, E_test = train[event_column], test[event_column]\n",
    "\n",
    "# 预测训练集\n",
    "prs_csf = csf.predict_survival(X_train)\n",
    "prs_rsf = rsf.predict_survival(X_train)\n",
    "prs_esf = esf.predict_survival(X_train)\n",
    "prs_coxph = coxph.predict_survival(X_train)\n",
    "prs_nonlinear_coxph = nonlinear_coxph.predict_survival(X_train)\n",
    "prs_gomp_model = gomp_model.predict_survival(X_train)\n",
    "\n",
    "# 预测测试集\n",
    "prs_csf_test = csf.predict_survival(X_test)\n",
    "prs_rsf_test = rsf.predict_survival(X_test)\n",
    "prs_esf_test = esf.predict_survival(X_test)\n",
    "prs_coxph_test = coxph.predict_survival(X_test)\n",
    "prs_nonlinear_coxph_test = nonlinear_coxph.predict_survival(X_test)\n",
    "prs_gomp_model_test = gomp_model.predict_survival(X_test)\n",
    "\n",
    "print(\"Train CSF:\", prs_csf, prs_csf.shape)\n",
    "print(\"Train RSF:\", prs_rsf, prs_rsf.shape)\n",
    "print(\"Train ESF:\", prs_esf, prs_esf.shape)\n",
    "print(\"Train Coxph:\", prs_coxph, prs_coxph.shape)\n",
    "print(\"Train Nonlinear Coxph:\", prs_nonlinear_coxph, prs_nonlinear_coxph.shape)\n",
    "print(\"Train GOMP Model:\", prs_gomp_model, prs_gomp_model.shape)\n",
    "\n",
    "print(\"Test CSF:\", prs_csf_test, prs_csf_test.shape)\n",
    "print(\"Test RSF:\", prs_rsf_test, prs_rsf_test.shape)\n",
    "print(\"Test ESF:\", prs_esf_test, prs_esf_test.shape)\n",
    "print(\"Test Coxph:\", prs_coxph_test, prs_coxph_test.shape)\n",
    "print(\"Test Nonlinear Coxph:\", prs_nonlinear_coxph_test, prs_nonlinear_coxph_test.shape)\n",
    "print(\"Test GOMP Model:\", prs_gomp_model_test, prs_gomp_model_test.shape)"
   ],
   "metadata": {
    "collapsed": false,
    "pycharm": {
     "name": "#%%\n"
    }
   }
  },
  {
   "cell_type": "code",
   "execution_count": 2,
   "outputs": [],
   "source": [
    "train = pd.read_csv(config[\"path_ok\"] + \"data_train.csv\")\n",
    "test = pd.read_csv(config[\"path_ok\"] + \"data_test.csv\")"
   ],
   "metadata": {
    "collapsed": false,
    "pycharm": {
     "name": "#%%\n"
    }
   }
  },
  {
   "cell_type": "code",
   "execution_count": 3,
   "outputs": [],
   "source": [
    "# concat the prs\n",
    "train_csf = pd.concat([train, pd.DataFrame(prs_csf)], axis=1)\n",
    "train_rsf = pd.concat([train, pd.DataFrame(prs_rsf)], axis=1)\n",
    "train_esf = pd.concat([train, pd.DataFrame(prs_esf)], axis=1)\n",
    "train_coxph = pd.concat([train, pd.DataFrame(prs_coxph)], axis=1)\n",
    "train_nonlinear_coxph = pd.concat([train, pd.DataFrame(prs_nonlinear_coxph)], axis=1)\n",
    "train_gomp_model = pd.concat([train, pd.DataFrame(prs_gomp_model)], axis=1)\n",
    "\n",
    "test_csf = pd.concat([test, pd.DataFrame(prs_csf_test)], axis=1)\n",
    "test_rsf = pd.concat([test, pd.DataFrame(prs_rsf_test)], axis=1)\n",
    "test_esf = pd.concat([test, pd.DataFrame(prs_esf_test)], axis=1)\n",
    "test_coxph = pd.concat([test, pd.DataFrame(prs_coxph_test)], axis=1)\n",
    "test_nonlinear_coxph = pd.concat([test, pd.DataFrame(prs_nonlinear_coxph_test)], axis=1)\n",
    "test_gomp_model = pd.concat([test, pd.DataFrame(prs_gomp_model_test)], axis=1)"
   ],
   "metadata": {
    "collapsed": false,
    "pycharm": {
     "name": "#%%\n"
    }
   }
  },
  {
   "cell_type": "code",
   "execution_count": 4,
   "outputs": [],
   "source": [
    "# concat the time and event\n",
    "from utils import *\n",
    "v = 0.5\n",
    "# 找到每一个样本的中位生存时间\n",
    "time = []\n",
    "for i in range(train_csf.shape[0]):\n",
    "    middle_day = prs_csf[i].tolist().index(find_nearest(prs_csf[i], v))\n",
    "    time.append(middle_day)\n",
    "train_csf['pred_time'] = time\n",
    "train_csf['pred_state'] = 1\n",
    "\n",
    "time = []\n",
    "for i in range(train_rsf.shape[0]):\n",
    "    middle_day = prs_rsf[i].tolist().index(find_nearest(prs_rsf[i], v))\n",
    "    time.append(middle_day)\n",
    "train_rsf['pred_time'] = time\n",
    "train_rsf['pred_state'] = 1\n",
    "\n",
    "time = []\n",
    "for i in range(train_esf.shape[0]):\n",
    "    middle_day = prs_esf[i].tolist().index(find_nearest(prs_esf[i], v))\n",
    "    time.append(middle_day)\n",
    "train_esf['pred_time'] = time\n",
    "train_esf['pred_state'] = 1\n",
    "\n",
    "time = []\n",
    "for i in range(train_coxph.shape[0]):\n",
    "    middle_day = prs_coxph[i].tolist().index(find_nearest(prs_coxph[i], v))\n",
    "    time.append(middle_day)\n",
    "train_coxph['pred_time'] = time\n",
    "train_coxph['pred_state'] = 1\n",
    "\n",
    "time = []\n",
    "for i in range(train_nonlinear_coxph.shape[0]):\n",
    "    middle_day = prs_nonlinear_coxph[i].tolist().index(find_nearest(prs_nonlinear_coxph[i], v))\n",
    "    time.append(middle_day)\n",
    "train_nonlinear_coxph['pred_time'] = time\n",
    "train_nonlinear_coxph['pred_state'] = 1\n",
    "\n",
    "time = []\n",
    "for i in range(train_gomp_model.shape[0]):\n",
    "    middle_day = prs_gomp_model[i].tolist().index(find_nearest(prs_gomp_model[i], v))\n",
    "    time.append(middle_day)\n",
    "train_gomp_model['pred_time'] = time\n",
    "train_gomp_model['pred_state'] = 1\n",
    "\n",
    "time = []\n",
    "for i in range(test_csf.shape[0]):\n",
    "    middle_day = prs_csf_test[i].tolist().index(find_nearest(prs_csf_test[i], v))\n",
    "    time.append(middle_day)\n",
    "test_csf['pred_time'] = time\n",
    "test_csf['pred_state'] = 1\n",
    "\n",
    "time = []\n",
    "for i in range(test_rsf.shape[0]):\n",
    "    middle_day = prs_rsf_test[i].tolist().index(find_nearest(prs_rsf_test[i], v))\n",
    "    time.append(middle_day)\n",
    "test_rsf['pred_time'] = time\n",
    "test_rsf['pred_state'] = 1\n",
    "\n",
    "time = []\n",
    "for i in range(test_esf.shape[0]):\n",
    "    middle_day = prs_esf_test[i].tolist().index(find_nearest(prs_esf_test[i], v))\n",
    "    time.append(middle_day)\n",
    "test_esf['pred_time'] = time\n",
    "test_esf['pred_state'] = 1\n",
    "\n",
    "time = []\n",
    "for i in range(test_coxph.shape[0]):\n",
    "    middle_day = prs_coxph_test[i].tolist().index(find_nearest(prs_coxph_test[i], v))\n",
    "    time.append(middle_day)\n",
    "test_coxph['pred_time'] = time\n",
    "test_coxph['pred_state'] = 1\n",
    "\n",
    "time = []\n",
    "for i in range(test_nonlinear_coxph.shape[0]):\n",
    "    middle_day = prs_nonlinear_coxph_test[i].tolist().index(find_nearest(prs_nonlinear_coxph_test[i], v))\n",
    "    time.append(middle_day)\n",
    "test_nonlinear_coxph['pred_time'] = time\n",
    "test_nonlinear_coxph['pred_state'] = 1\n",
    "\n",
    "time = []\n",
    "for i in range(test_gomp_model.shape[0]):\n",
    "    middle_day = prs_gomp_model_test[i].tolist().index(find_nearest(prs_gomp_model_test[i], v))\n",
    "    time.append(middle_day)\n",
    "test_gomp_model['pred_time'] = time\n",
    "test_gomp_model['pred_state'] = 1"
   ],
   "metadata": {
    "collapsed": false,
    "pycharm": {
     "name": "#%%\n"
    }
   }
  },
  {
   "cell_type": "code",
   "execution_count": 7,
   "outputs": [],
   "source": [
    "# 将预测结果写入文件\n",
    "train_csf.to_csv('./data/CSF_train_before.csv', index=False)\n",
    "train_rsf.to_csv('./data/RSF_train_before.csv', index=False)\n",
    "train_esf.to_csv('./data/ESF_train_before.csv', index=False)\n",
    "train_coxph.to_csv('./data/CoxPH_train_before.csv', index=False)\n",
    "train_nonlinear_coxph.to_csv('./data/Nonlinear_CoxPH_train_before.csv', index=False)\n",
    "train_gomp_model.to_csv('./data/GOMP_train_before.csv', index=False)\n",
    "\n",
    "test_csf.to_csv('./data/CSF_test_before.csv', index=False)\n",
    "test_rsf.to_csv('./data/RSF_test_before.csv', index=False)\n",
    "test_esf.to_csv('./data/ESF_test_before.csv', index=False)\n",
    "test_coxph.to_csv('./data/CoxPH_test_before.csv', index=False)\n",
    "test_nonlinear_coxph.to_csv('./data/Nonlinear_CoxPH_test_before.csv', index=False)\n",
    "test_gomp_model.to_csv('./data/GOMP_test_before.csv', index=False)"
   ],
   "metadata": {
    "collapsed": false,
    "pycharm": {
     "name": "#%%\n"
    }
   }
  }
 ],
 "metadata": {
  "kernelspec": {
   "display_name": "Python 3",
   "language": "python",
   "name": "python3"
  },
  "language_info": {
   "codemirror_mode": {
    "name": "ipython",
    "version": 2
   },
   "file_extension": ".py",
   "mimetype": "text/x-python",
   "name": "python",
   "nbconvert_exporter": "python",
   "pygments_lexer": "ipython2",
   "version": "2.7.6"
  }
 },
 "nbformat": 4,
 "nbformat_minor": 0
}